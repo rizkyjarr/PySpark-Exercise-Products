{
 "cells": [
  {
   "cell_type": "markdown",
   "metadata": {},
   "source": [
    "# **Data Manipulation using PySpark**"
   ]
  },
  {
   "cell_type": "markdown",
   "metadata": {},
   "source": [
    "**Importing Libraries:**"
   ]
  },
  {
   "cell_type": "code",
   "execution_count": 1,
   "metadata": {},
   "outputs": [],
   "source": [
    "from pyspark.sql import SparkSession, DataFrame\n",
    "from pyspark.context import SparkContext\n",
    "from functools import reduce\n",
    "from pyspark.sql.functions import col, regexp_replace, when, avg\n",
    "from pyspark.sql.types import StringType,BooleanType,DateType,FloatType, IntegerType\n",
    "import os"
   ]
  },
  {
   "cell_type": "markdown",
   "metadata": {},
   "source": [
    "**Create PySpark Session:**\n",
    "\n",
    "SparkSession is a unified entry point for interacting with Spark. It provides the ability to configure and manage the Spark application and enables access to Spark's APIs. Without it, PySpark cannot initialize and run."
   ]
  },
  {
   "cell_type": "code",
   "execution_count": 2,
   "metadata": {},
   "outputs": [],
   "source": [
    "# Create SparkSession\n",
    "spark = SparkSession.builder.appName(\"data_product\").getOrCreate()"
   ]
  },
  {
   "cell_type": "markdown",
   "metadata": {},
   "source": [
    "**Read consumption data from separated files:**"
   ]
  },
  {
   "cell_type": "code",
   "execution_count": 3,
   "metadata": {},
   "outputs": [],
   "source": [
    "# Read datafrom local machine\n",
    "\n",
    "appliances_df   = spark.read.csv(path=r\"C:\\Users\\user\\OneDrive\\RFA _Personal Files\\02. COURSE\\Purwadhika_Data Engineering\\Purwadhika_VS\\meet46\\data_original\\All Appliances.csv\", header=True, inferSchema=True)\n",
    "vehicle_df      = spark.read.csv(path=r\"C:\\Users\\user\\OneDrive\\RFA _Personal Files\\02. COURSE\\Purwadhika_Data Engineering\\Purwadhika_VS\\meet46\\data_original\\All Car and Motorbike Products.csv\",header=True,inferSchema=True)\n",
    "electronics_df  = spark.read.csv(path=r\"C:\\Users\\user\\OneDrive\\RFA _Personal Files\\02. COURSE\\Purwadhika_Data Engineering\\Purwadhika_VS\\meet46\\data_original\\All Electronics.csv\",header=True,inferSchema=True)\n",
    "fitness_df      = spark.read.csv(path=r\"C:\\Users\\user\\OneDrive\\RFA _Personal Files\\02. COURSE\\Purwadhika_Data Engineering\\Purwadhika_VS\\meet46\\data_original\\All Exercise and Fitness.csv\",header=True,inferSchema=True)\n",
    "groceries_df    = spark.read.csv(path=r\"C:\\Users\\user\\OneDrive\\RFA _Personal Files\\02. COURSE\\Purwadhika_Data Engineering\\Purwadhika_VS\\meet46\\data_original\\All Grocery and Gourmet Foods.csv\",header=True,inferSchema=True)"
   ]
  },
  {
   "cell_type": "markdown",
   "metadata": {},
   "source": [
    "**Union data into one PySpark Dataframe:**"
   ]
  },
  {
   "cell_type": "code",
   "execution_count": 4,
   "metadata": {},
   "outputs": [],
   "source": [
    "# Union data into one df\n",
    "all_data_dfs_list = [appliances_df, vehicle_df, electronics_df, fitness_df, groceries_df]\n",
    "all_data_dfs = reduce(DataFrame.unionAll, all_data_dfs_list)"
   ]
  },
  {
   "cell_type": "markdown",
   "metadata": {},
   "source": [
    "**Backing up PySpark Dataframe:**"
   ]
  },
  {
   "cell_type": "code",
   "execution_count": 5,
   "metadata": {},
   "outputs": [
    {
     "name": "stdout",
     "output_type": "stream",
     "text": [
      "+--------------------+-------------+--------------+--------------------+--------------------+-------+-------------+--------------+------------+\n",
      "|                name|main_category|  sub_category|               image|                link|ratings|no_of_ratings|discount_price|actual_price|\n",
      "+--------------------+-------------+--------------+--------------------+--------------------+-------+-------------+--------------+------------+\n",
      "|Pigeon by Stovekr...|   appliances|All Appliances|https://m.media-a...|https://www.amazo...|    3.9|      128,941|          ₹599|      ₹1,245|\n",
      "|Pigeon Polypropyl...|   appliances|All Appliances|https://m.media-a...|https://www.amazo...|    4.1|      274,505|          ₹199|        ₹545|\n",
      "|Glun Multipurpose...|   appliances|All Appliances|https://m.media-a...|https://www.amazo...|    3.8|          365|          ₹199|        ₹899|\n",
      "|beatXP Kitchen Sc...|   appliances|All Appliances|https://m.media-a...|https://www.amazo...|    3.7|        3,290|          ₹299|      ₹1,999|\n",
      "|Bajaj DX-6 1000W ...|   appliances|All Appliances|https://m.media-a...|https://www.amazo...|    4.2|       24,380|          ₹625|      ₹1,400|\n",
      "|Bajaj Frore 1200 ...|   appliances|All Appliances|https://m.media-a...|https://www.amazo...|    4.1|        9,971|        ₹1,349|      ₹2,660|\n",
      "|Kuber Industries ...|   appliances|All Appliances|https://m.media-a...|https://www.amazo...|    3.7|        4,210|           ₹92|         ₹99|\n",
      "|Prestige Electric...|   appliances|All Appliances|https://m.media-a...|https://www.amazo...|    3.9|       64,888|          ₹699|      ₹1,445|\n",
      "|NutriPro Juicer M...|   appliances|All Appliances|https://m.media-a...|https://www.amazo...|    4.1|        6,023|        ₹1,990|      ₹6,000|\n",
      "|Philips GC1905 14...|   appliances|All Appliances|https://m.media-a...|https://www.amazo...|    4.3|       38,928|        ₹1,699|      ₹2,295|\n",
      "|Lifelong LLMG23 P...|   appliances|All Appliances|https://m.media-a...|https://www.amazo...|    3.8|       45,688|        ₹1,329|      ₹3,500|\n",
      "|Bajaj PX 97 Torqu...|   appliances|All Appliances|https://m.media-a...|https://www.amazo...|    3.7|       19,602|        ₹5,799|      ₹9,050|\n",
      "|Bajaj Rex 500W Mi...|   appliances|All Appliances|https://m.media-a...|https://www.amazo...|    4.2|       42,284|        ₹2,099|      ₹3,210|\n",
      "|USHA Armor AR1100...|   appliances|All Appliances|https://m.media-a...|https://www.amazo...|    3.9|       17,030|          ₹549|        ₹990|\n",
      "|Philips Viva Coll...|   appliances|All Appliances|https://m.media-a...|https://www.amazo...|    4.2|       40,782|        ₹3,099|      ₹5,995|\n",
      "|PrettyKrafts Laun...|   appliances|All Appliances|https://m.media-a...|https://www.amazo...|    3.9|        5,754|          ₹289|      ₹1,099|\n",
      "|Butterfly EKN 1.5...|   appliances|All Appliances|https://m.media-a...|https://www.amazo...|    4.2|       36,295|          ₹649|      ₹1,299|\n",
      "|Pigeon by Stovekr...|   appliances|All Appliances|https://m.media-a...|https://www.amazo...|    3.8|       55,819|        ₹1,689|      ₹3,193|\n",
      "|Pigeon Healthifry...|   appliances|All Appliances|https://m.media-a...|https://www.amazo...|    3.9|          692|        ₹3,529|      ₹7,995|\n",
      "|Bajaj Majesty DX-...|   appliances|All Appliances|https://m.media-a...|https://www.amazo...|    4.2|       25,165|          ₹599|        ₹785|\n",
      "+--------------------+-------------+--------------+--------------------+--------------------+-------+-------------+--------------+------------+\n",
      "only showing top 20 rows\n",
      "\n"
     ]
    }
   ],
   "source": [
    "# Backing up dataframe\n",
    "df_product = all_data_dfs.alias('df_product')\n",
    "df_product.show()"
   ]
  },
  {
   "cell_type": "markdown",
   "metadata": {},
   "source": [
    "**Checkpoint 1: Checking up datatypes:**"
   ]
  },
  {
   "cell_type": "code",
   "execution_count": 6,
   "metadata": {},
   "outputs": [
    {
     "name": "stdout",
     "output_type": "stream",
     "text": [
      "name , string\n",
      "main_category , string\n",
      "sub_category , string\n",
      "image , string\n",
      "link , string\n",
      "ratings , string\n",
      "no_of_ratings , string\n",
      "discount_price , string\n",
      "actual_price , string\n"
     ]
    }
   ],
   "source": [
    "for column in df_product.dtypes:\n",
    "    print(column[0]+\" , \"+column[1])"
   ]
  },
  {
   "cell_type": "markdown",
   "metadata": {},
   "source": [
    "**Data Transforming: removing currency symbols, and convert datatypes:**"
   ]
  },
  {
   "cell_type": "code",
   "execution_count": 7,
   "metadata": {},
   "outputs": [],
   "source": [
    "#4. handling discount_price and actual_price\n",
    "\n",
    "df_product = df_product.withColumn(\"discount_price\",regexp_replace(col(\"discount_price\"), r'[^\\d.]', \"\").cast(\"float\"))\n",
    "\n",
    "df_product = df_product.withColumn(\"actual_price\",regexp_replace(col(\"actual_price\"), r'[^\\d.]', \"\").cast(\"float\"))\n",
    "\n",
    "df_product = df_product.withColumn(\n",
    "    'no_of_ratings',\n",
    "    when(col('no_of_ratings').rlike('^[0-9]+$'), col('no_of_ratings').cast('int')).otherwise(None))\n",
    "\n",
    "df_product = df_product.withColumn(\"ratings\", regexp_replace(col(\"ratings\"), r\"[^\\d.]\", \"\").cast(\"float\"))\n"
   ]
  },
  {
   "cell_type": "markdown",
   "metadata": {},
   "source": [
    "**Checkpoint 2: Checking up datatypes:**"
   ]
  },
  {
   "cell_type": "code",
   "execution_count": 8,
   "metadata": {},
   "outputs": [
    {
     "name": "stdout",
     "output_type": "stream",
     "text": [
      "name , string\n",
      "main_category , string\n",
      "sub_category , string\n",
      "image , string\n",
      "link , string\n",
      "ratings , float\n",
      "no_of_ratings , int\n",
      "discount_price , float\n",
      "actual_price , float\n"
     ]
    }
   ],
   "source": [
    "# 2nd checking data type\n",
    "for column in df_product.dtypes:\n",
    "    print(column[0]+\" , \"+column[1])"
   ]
  },
  {
   "cell_type": "markdown",
   "metadata": {},
   "source": [
    "**Create new column named discount_amount:**"
   ]
  },
  {
   "cell_type": "code",
   "execution_count": 9,
   "metadata": {},
   "outputs": [],
   "source": [
    "# Create new column (discrepancy between actual_price and discount_price)\n",
    "df_product = df_product.withColumn(\"discount_amount\", (col(\"actual_price\")-col(\"discount_price\")).cast(\"float\"))"
   ]
  },
  {
   "cell_type": "markdown",
   "metadata": {},
   "source": [
    "**Drop duplicated data within the Dataframe:**"
   ]
  },
  {
   "cell_type": "code",
   "execution_count": 10,
   "metadata": {},
   "outputs": [],
   "source": [
    "#6. drop duplicated data\n",
    "df_product = df_product.drop_duplicates()"
   ]
  },
  {
   "cell_type": "markdown",
   "metadata": {},
   "source": [
    "**Sorting the data:**"
   ]
  },
  {
   "cell_type": "code",
   "execution_count": 11,
   "metadata": {},
   "outputs": [],
   "source": [
    "#7. sorting data\n",
    "df_product = df_product.sort(df_product[\"no_of_ratings\"].desc())"
   ]
  },
  {
   "cell_type": "markdown",
   "metadata": {},
   "source": [
    "**Filtering data based on ratings:**"
   ]
  },
  {
   "cell_type": "code",
   "execution_count": 12,
   "metadata": {},
   "outputs": [],
   "source": [
    "#8. filter ratings\n",
    "\n",
    "df_product = df_product.filter(df_product[\"ratings\"] < 5.0)"
   ]
  },
  {
   "cell_type": "markdown",
   "metadata": {},
   "source": [
    "**Finding highest rated by main_category and sub_category:**"
   ]
  },
  {
   "cell_type": "code",
   "execution_count": 13,
   "metadata": {},
   "outputs": [
    {
     "name": "stdout",
     "output_type": "stream",
     "text": [
      "+--------------------+--------------------+------------------+\n",
      "|       main_category|        sub_category|   average_ratings|\n",
      "+--------------------+--------------------+------------------+\n",
      "|grocery & gourmet...|All Grocery & Gou...| 4.162970950195428|\n",
      "| tv, audio & cameras|     All Electronics| 4.068329122765017|\n",
      "|          appliances|      All Appliances| 3.878102694300688|\n",
      "|    sports & fitness|All Exercise & Fi...|3.8478478456999325|\n",
      "|     car & motorbike|All Car & Motorbi...| 3.796893872095656|\n",
      "+--------------------+--------------------+------------------+\n",
      "\n"
     ]
    }
   ],
   "source": [
    "#9. Finding highest rated product based on main_category and sub_category\n",
    "\n",
    "average_ratings = df_product.groupBy('main_category', 'sub_category') \\\n",
    "    .agg(avg('ratings').alias('average_ratings'))\n",
    "\n",
    "# Find the category with the highest average ratings\n",
    "highest_average = average_ratings.orderBy(col('average_ratings').desc())\n",
    "\n",
    "# Show the results\n",
    "highest_average.show()\n"
   ]
  },
  {
   "cell_type": "markdown",
   "metadata": {},
   "source": [
    "**Finding highest discount_amount:**"
   ]
  },
  {
   "cell_type": "code",
   "execution_count": 14,
   "metadata": {},
   "outputs": [
    {
     "name": "stdout",
     "output_type": "stream",
     "text": [
      "+--------------------+-------------------+---------------+--------------------+--------------------+-------+-------------+--------------+------------+---------------+\n",
      "|                name|      main_category|   sub_category|               image|                link|ratings|no_of_ratings|discount_price|actual_price|discount_amount|\n",
      "+--------------------+-------------------+---------------+--------------------+--------------------+-------+-------------+--------------+------------+---------------+\n",
      "|ROCKWELL RVC550B ...|         appliances| All Appliances|https://m.media-a...|https://www.amazo...|    4.8|            9|       20500.0|    110489.0|        89989.0|\n",
      "|ROCKWELL RVC550B ...|         appliances| All Appliances|https://m.media-a...|https://www.amazo...|    4.8|            9|       20500.0|    110489.0|        89989.0|\n",
      "|(Renewed) Lenovo ...|tv, audio & cameras|All Electronics|https://m.media-a...|https://www.amazo...|    3.4|           44|       17399.0|     94000.0|        76601.0|\n",
      "|LG 594 L Frost-Fr...|         appliances| All Appliances|https://m.media-a...|https://www.amazo...|    4.1|           68|       82499.0|    158490.0|        75991.0|\n",
      "|(Renewed) Dell La...|tv, audio & cameras|All Electronics|https://m.media-a...|https://www.amazo...|    3.6|          844|       18124.0|     89999.0|        71875.0|\n",
      "+--------------------+-------------------+---------------+--------------------+--------------------+-------+-------------+--------------+------------+---------------+\n",
      "\n"
     ]
    }
   ],
   "source": [
    "#10. Finding product that has the highest discount_amount\n",
    "\n",
    "highest_discount = df_product.orderBy(col('discount_amount').desc()).limit(5)\n",
    "\n",
    "highest_discount.show()"
   ]
  }
 ],
 "metadata": {
  "kernelspec": {
   "display_name": "Python 3",
   "language": "python",
   "name": "python3"
  },
  "language_info": {
   "codemirror_mode": {
    "name": "ipython",
    "version": 3
   },
   "file_extension": ".py",
   "mimetype": "text/x-python",
   "name": "python",
   "nbconvert_exporter": "python",
   "pygments_lexer": "ipython3",
   "version": "3.11.9"
  }
 },
 "nbformat": 4,
 "nbformat_minor": 2
}
